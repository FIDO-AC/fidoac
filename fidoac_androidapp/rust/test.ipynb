{
 "cells": [
  {
   "cell_type": "code",
   "execution_count": 2,
   "metadata": {},
   "outputs": [],
   "source": [
    "dg1_rawbyte = bytes.fromhex('615b5f1f58503c4d595359454f483c5745493c5a48553c3c3c3c3c3c3c3c3c3c3c3c3c3c3c3c3c3c3c3c3c3c3c3c3c3c3c413531303832383739384d5953393530323232304d323331323139303935303232323037353930353c3c3438')"
   ]
  },
  {
   "cell_type": "code",
   "execution_count": 39,
   "metadata": {},
   "outputs": [
    {
     "name": "stdout",
     "output_type": "stream",
     "text": [
      "b'95'\n",
      "57\n",
      "53\n"
     ]
    }
   ],
   "source": [
    "print(str(dg1_rawbyte[62:64]))\n",
    "# 9, 5\n",
    "print(dg1_rawbyte[62])\n",
    "print(dg1_rawbyte[63])"
   ]
  },
  {
   "cell_type": "code",
   "execution_count": 27,
   "metadata": {},
   "outputs": [
    {
     "data": {
      "text/plain": [
       "31"
      ]
     },
     "execution_count": 27,
     "metadata": {},
     "output_type": "execute_result"
    }
   ],
   "source": [
    "len(\"a[_\u001fXP<MYSYEOH<WEI<ZHU<<<<<<<<<<<<<<<<<<<<<<<<<<<A510828798MYS9502220M2312190950222075905<<48\")"
   ]
  },
  {
   "cell_type": "code",
   "execution_count": 28,
   "metadata": {},
   "outputs": [
    {
     "data": {
      "text/plain": [
       "62"
      ]
     },
     "execution_count": 28,
     "metadata": {},
     "output_type": "execute_result"
    }
   ],
   "source": [
    "len(\"a[_\u001fXP<MYSYEOH<WEI<ZHU<<<<<<<<<<<<<<<<<<<<<<<<<<<A510828798MYS\")"
   ]
  },
  {
   "cell_type": "code",
   "execution_count": 32,
   "metadata": {},
   "outputs": [],
   "source": [
    "# for i in range(dg1_rawbyte.__len__()):\n",
    "#     print(str(i) + \":\" + str(dg1_rawbyte[i:i+1]))"
   ]
  },
  {
   "cell_type": "code",
   "execution_count": 35,
   "metadata": {},
   "outputs": [
    {
     "data": {
      "text/plain": [
       "182"
      ]
     },
     "execution_count": 35,
     "metadata": {},
     "output_type": "execute_result"
    }
   ],
   "source": [
    "len(\"5f1f58503c4d595359454f483c5745493c5a48553c3c3c3c3c3c3c3c3c3c3c3c3c3c3c3c3c3c3c3c3c3c3c3c3c3c3c413531303832383739384d5953393530323232304d323331323139303935303232323037353930353c3c3438\")"
   ]
  },
  {
   "cell_type": "code",
   "execution_count": 13,
   "metadata": {},
   "outputs": [
    {
     "data": {
      "text/plain": [
       "'6d792064617461'"
      ]
     },
     "execution_count": 13,
     "metadata": {},
     "output_type": "execute_result"
    }
   ],
   "source": [
    "s = \"my data\"\n",
    "\"\".join(\"{:02x}\".format(ord(c)) for c in s)"
   ]
  },
  {
   "cell_type": "code",
   "execution_count": 14,
   "metadata": {},
   "outputs": [
    {
     "data": {
      "text/plain": [
       "21"
      ]
     },
     "execution_count": 14,
     "metadata": {},
     "output_type": "execute_result"
    }
   ],
   "source": [
    "len(\"RilakkumaWifiPassword\")"
   ]
  },
  {
   "cell_type": "code",
   "execution_count": null,
   "metadata": {},
   "outputs": [],
   "source": []
  }
 ],
 "metadata": {
  "kernelspec": {
   "display_name": "Python 3",
   "language": "python",
   "name": "python3"
  },
  "language_info": {
   "codemirror_mode": {
    "name": "ipython",
    "version": 3
   },
   "file_extension": ".py",
   "mimetype": "text/x-python",
   "name": "python",
   "nbconvert_exporter": "python",
   "pygments_lexer": "ipython3",
   "version": "3.9.4"
  },
  "orig_nbformat": 4,
  "vscode": {
   "interpreter": {
    "hash": "b5399485f69f6e5480a48cc4badbbf99aa9ec934aa62d9879f5ba7b6473ffc8c"
   }
  }
 },
 "nbformat": 4,
 "nbformat_minor": 2
}
